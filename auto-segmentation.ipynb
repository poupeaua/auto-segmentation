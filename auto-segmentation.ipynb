{
 "cells": [
  {
   "cell_type": "markdown",
   "metadata": {},
   "source": [
    "# Pattern Recognition - Tarea 2 - Automatic Segmentation"
   ]
  },
  {
   "cell_type": "markdown",
   "metadata": {},
   "source": [
    "## Introduction"
   ]
  },
  {
   "cell_type": "code",
   "execution_count": 39,
   "metadata": {},
   "outputs": [],
   "source": [
    "import numpy as np\n",
    "import matplotlib.pyplot as plt\n",
    "import PIL\n",
    "import sklearn\n",
    "import pandas as pd\n",
    "import os\n",
    "from skimage import io\n",
    "from skimage.color import rgb2gray\n",
    "import scipy\n",
    "from scipy.signal import convolve2d\n",
    "\n",
    "# ML classification\n",
    "from sklearn.ensemble import RandomForestClassifier\n",
    "from sklearn.metrics import confusion_matrix\n",
    "from sklearn.utils.multiclass import unique_labels"
   ]
  },
  {
   "cell_type": "code",
   "execution_count": 48,
   "metadata": {},
   "outputs": [],
   "source": [
    "def plot_confusion_matrix(y_true, y_pred, classes,\n",
    "                          normalize=False,\n",
    "                          title=None,\n",
    "                          cmap=plt.cm.Blues):\n",
    "    \"\"\"\n",
    "    This function prints and plots the confusion matrix.\n",
    "    Normalization can be applied by setting `normalize=True`.\n",
    "    \"\"\"\n",
    "    if not title:\n",
    "        if normalize:\n",
    "            title = 'Normalized confusion matrix'\n",
    "        else:\n",
    "            title = 'Confusion matrix, without normalization'\n",
    "\n",
    "    # Compute confusion matrix\n",
    "    cm = confusion_matrix(y_true, y_pred)\n",
    "    # Only use the labels that appear in the data\n",
    "    if normalize:\n",
    "        cm = cm.astype('float') / cm.sum(axis=1)[:, np.newaxis]\n",
    "        print(\"Normalized confusion matrix\")\n",
    "    else:\n",
    "        print('Confusion matrix, without normalization')\n",
    "\n",
    "    print(cm)\n",
    "\n",
    "    fig, ax = plt.subplots()\n",
    "    im = ax.imshow(cm, interpolation='nearest', cmap=cmap)\n",
    "    ax.figure.colorbar(im, ax=ax)\n",
    "    # We want to show all ticks...\n",
    "    ax.set(xticks=np.arange(cm.shape[1]),\n",
    "           yticks=np.arange(cm.shape[0]),\n",
    "           # ... and label them with the respective list entries\n",
    "           xticklabels=classes, yticklabels=classes,\n",
    "           title=title,\n",
    "           ylabel='True label',\n",
    "           xlabel='Predicted label')\n",
    "\n",
    "    # Rotate the tick labels and set their alignment.\n",
    "    plt.setp(ax.get_xticklabels(), rotation=45, ha=\"right\",\n",
    "             rotation_mode=\"anchor\")\n",
    "\n",
    "    # Loop over data dimensions and create text annotations.\n",
    "    fmt = '.2f' if normalize else 'd'\n",
    "    thresh = cm.max() / 2.\n",
    "    for i in range(cm.shape[0]):\n",
    "        for j in range(cm.shape[1]):\n",
    "            ax.text(j, i, format(cm[i, j], fmt),\n",
    "                    ha=\"center\", va=\"center\",\n",
    "                    color=\"white\" if cm[i, j] > thresh else \"black\")\n",
    "    fig.tight_layout()\n",
    "    return ax"
   ]
  },
  {
   "cell_type": "markdown",
   "metadata": {},
   "source": [
    "We are firstly going to read all images."
   ]
  },
  {
   "cell_type": "code",
   "execution_count": 3,
   "metadata": {},
   "outputs": [
    {
     "name": "stdout",
     "output_type": "stream",
     "text": [
      "(55, 512, 512)\n",
      "(55, 512, 512)\n",
      "min-max values raw : 1 255\n",
      "min-max values seg : 0 1\n"
     ]
    }
   ],
   "source": [
    "# estagblishing the paths\n",
    "img_path = \"/home/osboxes/Documents/python/recpatr/auto-segmentation/\"\n",
    "img_path = \"/u/a/2019/apoupeau/Documentos/recpatr/auto-segmentation\"\n",
    "img_raw_path = os.path.join(img_path, \"datos_tarea2/raw.tif\")\n",
    "img_seg_path = os.path.join(img_path, \"datos_tarea2/segmentacion_referencia.tif\")\n",
    "\n",
    "# getting raw and ground truth data\n",
    "raw_data = io.imread(img_raw_path)\n",
    "seg_data = np.array((1/255) * io.imread(img_seg_path), dtype=int) # class 0 : 255 => to 0 : 1\n",
    "\n",
    "# get info 55 images of shape 512x512\n",
    "print(raw_data.shape)\n",
    "print(seg_data.shape)\n",
    "\n",
    "print(\"min-max values raw :\", np.min(raw_data), np.max(raw_data))\n",
    "print(\"min-max values seg :\", np.min(seg_data), np.max(seg_data))"
   ]
  },
  {
   "cell_type": "markdown",
   "metadata": {},
   "source": [
    "Create some tools functions like display an image."
   ]
  },
  {
   "cell_type": "markdown",
   "metadata": {},
   "source": [
    "## Convolution "
   ]
  },
  {
   "cell_type": "markdown",
   "metadata": {},
   "source": [
    "We want to extract caracteristics from each images. In order to do that we will first create three kernels (filters) and a function that make the convolution. \n",
    "\n",
    "http://machinelearninguru.com/computer_vision/basics/convolution/image_convolution_1.html"
   ]
  },
  {
   "cell_type": "code",
   "execution_count": 4,
   "metadata": {},
   "outputs": [],
   "source": [
    "# KERNELS\n",
    "mean_kernel = 1/9 * np.ones(shape=(3,3))\n",
    "\n",
    "sobelx_kernel = np.array([[-1, 0, 1],\n",
    "                          [-2, 0, 2],\n",
    "                          [-1, 0, 1]])\n",
    "\n",
    "sobely_kernel = np.array([[-1, -2, -1],\n",
    "                          [0, 0, 0],\n",
    "                          [1, 2, 1]])\n",
    "\n",
    "laplacian_kernel = np.array([[-1, -1, -1],\n",
    "                             [-1,  8, -1],\n",
    "                             [-1, -1, -1]])"
   ]
  },
  {
   "cell_type": "code",
   "execution_count": 5,
   "metadata": {
    "scrolled": false
   },
   "outputs": [],
   "source": [
    "def testConvolution():\n",
    "    test_img = io.imread(os.path.join(img_path, \"img/building.jpg\"))\n",
    "    # test_img = io.imread(os.path.join(img_path, \"img/chair.jpg\"))\n",
    "    # test_img = raw_data[0]\n",
    "    test_img = rgb2gray(test_img)\n",
    "\n",
    "    # original img\n",
    "    plt.figure(figsize=(14,8))\n",
    "    plt.title(\"Original\")\n",
    "    plt.imshow(test_img, cmap=\"gray\")\n",
    "    plt.show()\n",
    "\n",
    "    # mean kernel\n",
    "    trans_img = convolve2d(test_img, mean_kernel, \"same\")\n",
    "    plt.figure(figsize=(14,8))\n",
    "    plt.title(\"Edge Detection - Mean Kernel\")\n",
    "    plt.imshow(trans_img, cmap=\"gray\")\n",
    "    plt.show()\n",
    "\n",
    "    # sobelx kernel\n",
    "    transx_img = convolve2d(test_img, sobelx_kernel, \"same\")\n",
    "    plt.figure(figsize=(14,8))\n",
    "    plt.title(\"X Detection - Sobel x Kernel\")\n",
    "    plt.imshow(transx_img, cmap=\"gray\")\n",
    "    plt.show()\n",
    "\n",
    "    # sobely kernel\n",
    "    transy_img = convolve2d(test_img, sobely_kernel, \"same\")\n",
    "    plt.figure(figsize=(14,8))\n",
    "    plt.title(\"Y Detection - Sobel y Kernel\")\n",
    "    plt.imshow(transy_img, cmap=\"gray\")\n",
    "    plt.show()\n",
    "\n",
    "    # gradient magnitud\n",
    "    grad_mag = np.sqrt(transx_img**2 + transy_img**2)\n",
    "    plt.figure(figsize=(14,8))\n",
    "    plt.title(\"Gradient Magnitude\")\n",
    "    plt.imshow(grad_mag, cmap=\"gray\")\n",
    "    plt.show()\n",
    "\n",
    "    # laplacian kernel\n",
    "    trans_img = convolve2d(test_img, laplacian_kernel, \"same\")\n",
    "    plt.figure(figsize=(14,8))\n",
    "    plt.title(\"Edge Detection - Laplacian Kernel\")\n",
    "    plt.imshow(trans_img, cmap=\"gray\")\n",
    "    plt.show()"
   ]
  },
  {
   "cell_type": "markdown",
   "metadata": {},
   "source": [
    "## Extract features"
   ]
  },
  {
   "cell_type": "markdown",
   "metadata": {},
   "source": [
    "We have to extract the three features per pixel for each image. The function thus takes as an input an image of shape (512x512) and returns three \"modified\" images which shape is equal to (512x512)."
   ]
  },
  {
   "cell_type": "code",
   "execution_count": 6,
   "metadata": {},
   "outputs": [],
   "source": [
    "def extractFeatures(img, flatten=False):\n",
    "    \"\"\"\n",
    "        Compute three features : mean, magnitud and edge detection.\n",
    "        \n",
    "        Arguments:\n",
    "            img (array) : shape (512,512)\n",
    "            flatten (bool) : if true return a shape (512*512, 3)\n",
    "        \n",
    "        Return:\n",
    "            features (array) : shape (3,512,512) or (512*512, 3) if flatten=True\n",
    "    \"\"\"\n",
    "    # mean kernel\n",
    "    blurred_img = convolve2d(img, mean_kernel, \"same\")\n",
    "    \n",
    "    # gradient magnitud\n",
    "    transx_img = convolve2d(img, sobelx_kernel, \"same\")\n",
    "    transy_img = convolve2d(img, sobely_kernel, \"same\")\n",
    "    grad_mag = np.sqrt(transx_img**2 + transy_img**2)\n",
    "\n",
    "    # laplacian kernel\n",
    "    lap_img = convolve2d(img, laplacian_kernel, \"same\")\n",
    "    \n",
    "    # concatenate\n",
    "    features = np.array([blurred_img, grad_mag, lap_img])\n",
    "    if flatten:\n",
    "        flatten_features_img = np.zeros(shape=(3, len(lap_img)**2))\n",
    "        for i, feature in enumerate(features):\n",
    "            flatten_features_img[i] = feature.flatten()\n",
    "        features = flatten_features_img.T\n",
    "    \n",
    "    return features"
   ]
  },
  {
   "cell_type": "code",
   "execution_count": 7,
   "metadata": {},
   "outputs": [
    {
     "name": "stdout",
     "output_type": "stream",
     "text": [
      "(3, 512, 512)\n",
      "(262144, 3)\n"
     ]
    }
   ],
   "source": [
    "# test\n",
    "print(extractFeatures(raw_data[0]).shape)\n",
    "print(extractFeatures(raw_data[0], flatten=True).shape)"
   ]
  },
  {
   "cell_type": "code",
   "execution_count": 8,
   "metadata": {},
   "outputs": [],
   "source": [
    "def linkImgFeaturesAndClass(img, class_pixels_img):\n",
    "    \"\"\"\n",
    "        Arguments:\n",
    "            img (array) : raw image (512,512)\n",
    "            class_pixels_img (array) : values 0 or 1 in it, class for each pixel of the img\n",
    "        \n",
    "        Return:\n",
    "            features_and_class (array) : shape (512*512, 4)\n",
    "    \"\"\"\n",
    "    # extract features\n",
    "    features_img = extractFeatures(img=img)\n",
    "    \n",
    "    # get dataset for the current img\n",
    "    shp = features_img.shape\n",
    "    flatten_features_img = np.zeros(shape=(4, shp[-1]**2))\n",
    "    for i, feature in enumerate(features_img):\n",
    "        flatten_features_img[i] = feature.flatten()\n",
    "    \n",
    "    # concatenate class_pixels_img and features\n",
    "    flatten_features_img[-1] = class_pixels_img.flatten()\n",
    "    features_and_class = flatten_features_img.T\n",
    "    \n",
    "    return features_and_class"
   ]
  },
  {
   "cell_type": "code",
   "execution_count": 9,
   "metadata": {},
   "outputs": [
    {
     "data": {
      "text/plain": [
       "(262144, 4)"
      ]
     },
     "execution_count": 9,
     "metadata": {},
     "output_type": "execute_result"
    }
   ],
   "source": [
    "# test ok\n",
    "linkImgFeaturesAndClass(raw_data[0], seg_data[0]).shape"
   ]
  },
  {
   "cell_type": "markdown",
   "metadata": {},
   "source": [
    "## Construct dataset"
   ]
  },
  {
   "cell_type": "code",
   "execution_count": 10,
   "metadata": {},
   "outputs": [],
   "source": [
    "def computeclfDataset(X, y, nb_max_img=55):\n",
    "    \"\"\"\n",
    "        X (array) : all raw images\n",
    "        y (array) : label for all pixel\n",
    "        nb_max_img (int) : value in [1, 55], default all images\n",
    "        \n",
    "        Return:\n",
    "            dataset (array) : (nb_max_img*512*512, n_features+1 = 4)\n",
    "    \"\"\"\n",
    "    dataset = np.array([0, 0, 0, 0])\n",
    "    for img, class_pixels_img in zip(X[:nb_max_img], y[:nb_max_img]):\n",
    "        dataset = np.vstack((dataset, linkImgFeaturesAndClass(img, class_pixels_img)))\n",
    "    # get rid of the first row\n",
    "    dataset = dataset[1:, :]\n",
    "    return dataset"
   ]
  },
  {
   "cell_type": "code",
   "execution_count": 55,
   "metadata": {},
   "outputs": [],
   "source": [
    "clf_dataset = computeclfDataset(X=raw_data, y=seg_data, nb_max_img=30)"
   ]
  },
  {
   "cell_type": "code",
   "execution_count": 56,
   "metadata": {},
   "outputs": [
    {
     "name": "stdout",
     "output_type": "stream",
     "text": [
      "(7864320, 4)\n"
     ]
    }
   ],
   "source": [
    "# test\n",
    "print(clf_dataset.shape)"
   ]
  },
  {
   "cell_type": "code",
   "execution_count": 13,
   "metadata": {},
   "outputs": [],
   "source": [
    "def equilibrate(dataset, margin=1.25, disp=False):\n",
    "    \"\"\"\n",
    "        Help to solve the \"ONLY 1 PREDICTION PROBLEM\".\n",
    "    \n",
    "        Arguments:\n",
    "            dataset (array) : shape (n_samples, n_features)\n",
    "            margin (int) : if 1 => nb_ones = nb_zeros, if 2 => nb_ones = 2*nb_zeros\n",
    "            \n",
    "        Return:\n",
    "            dataset (array) : shape (n < n_samples, n_features)\n",
    "    \"\"\"\n",
    "    nb_zeros = len(dataset[dataset[:, -1] == 0])\n",
    "    if disp:\n",
    "        print(\"Number of 0 class samples =\", nb_zeros)\n",
    "        print(\"Number of 1 class samples =\", len(dataset) - nb_zeros)\n",
    "        print(\"Equilibrating...\")\n",
    "    \n",
    "    # equilibrate dataset in a quick way\n",
    "    np.random.shuffle(dataset)\n",
    "    subset_ones = dataset[dataset[:, -1] == 1][:int(nb_zeros*margin), :]\n",
    "    subset_zeros = dataset[dataset[:, -1] == 0]\n",
    "    dataset = np.vstack((subset_ones, subset_zeros))\n",
    "    np.random.shuffle(dataset)\n",
    "    \n",
    "    if disp:\n",
    "        nb_zeros = len(dataset[dataset[:, -1] == 0])\n",
    "        print(\"Number of 0 class samples =\", nb_zeros)\n",
    "        print(\"Number of 1 class samples =\", len(dataset) - nb_zeros)\n",
    "    \n",
    "    return dataset"
   ]
  },
  {
   "cell_type": "code",
   "execution_count": 57,
   "metadata": {},
   "outputs": [
    {
     "name": "stdout",
     "output_type": "stream",
     "text": [
      "Number of 0 class samples = 1525622\n",
      "Number of 1 class samples = 6338698\n",
      "Equilibrating...\n",
      "Number of 0 class samples = 1525622\n",
      "Number of 1 class samples = 1907027\n"
     ]
    },
    {
     "data": {
      "text/plain": [
       "(3432649, 4)"
      ]
     },
     "execution_count": 57,
     "metadata": {},
     "output_type": "execute_result"
    }
   ],
   "source": [
    "equilibrate(clf_dataset, disp=True, margin=1.25).shape"
   ]
  },
  {
   "cell_type": "code",
   "execution_count": 15,
   "metadata": {},
   "outputs": [],
   "source": [
    "def preprocessDataset(clf_dataset):\n",
    "    \"\"\"\n",
    "        IN ORDER TO COUNTER THE \"ONLY 1 PREDICTION PROBLEM\" make the dataset\n",
    "        homogenous such that there are as many 1 samples as 0.\n",
    "        This way, classifiers will learn in a homogenous way.\n",
    "        \n",
    "        Argument:\n",
    "            dataset (array) : shape (n_samples, n_features)\n",
    "            \n",
    "        Return:\n",
    "            train_ (array) : shape (n < n_samples, n_features)\n",
    "    \"\"\"\n",
    "    # 1 - DIVIDE train / test\n",
    "    pct_train = 0.8\n",
    "    train_clf_data = clf_dataset[:int(len(clf_dataset)*pct_train), :]\n",
    "    test_clf_data = clf_dataset[int(len(clf_dataset)*pct_train):, :]\n",
    "    \n",
    "    # 2 - EQUILIBRATE and SHUFFLE data the train and test dataset\n",
    "    # remove all 1 elements until there are as numerous as the number of 0 elements\n",
    "    train_clf_data = equilibrate(dataset=train_clf_data)\n",
    "    test_clf_data = equilibrate(dataset=test_clf_data)\n",
    "    \n",
    "    return train_clf_data, test_clf_data"
   ]
  },
  {
   "cell_type": "code",
   "execution_count": 58,
   "metadata": {},
   "outputs": [],
   "source": [
    "train_clf_data, test_clf_data = preprocessDataset(clf_dataset=clf_dataset)"
   ]
  },
  {
   "cell_type": "code",
   "execution_count": 59,
   "metadata": {},
   "outputs": [
    {
     "name": "stdout",
     "output_type": "stream",
     "text": [
      "(2746129, 4)\n",
      "(686520, 4)\n"
     ]
    }
   ],
   "source": [
    "print(train_clf_data.shape)\n",
    "print(test_clf_data.shape)"
   ]
  },
  {
   "cell_type": "markdown",
   "metadata": {},
   "source": [
    "## Segmentation"
   ]
  },
  {
   "cell_type": "markdown",
   "metadata": {},
   "source": [
    "Now we are going to classify using the dataset we have."
   ]
  },
  {
   "cell_type": "code",
   "execution_count": null,
   "metadata": {},
   "outputs": [],
   "source": []
  },
  {
   "cell_type": "code",
   "execution_count": null,
   "metadata": {},
   "outputs": [],
   "source": [
    "clf = RandomForestClassifier(n_estimators=10, max_depth=2, n_jobs=64)\n",
    "\n",
    "clf.fit(train_clf_data[:, :-1], train_clf_data[:, -1])"
   ]
  },
  {
   "cell_type": "code",
   "execution_count": 65,
   "metadata": {},
   "outputs": [
    {
     "name": "stdout",
     "output_type": "stream",
     "text": [
      "Accuracy = 0.6669186622385364\n",
      "Confusion matrix, without normalization\n",
      "[[134965 170155]\n",
      " [ 58512 322888]]\n"
     ]
    },
    {
     "data": {
      "image/png": "[encoded data removed]",
      "text/plain": [
       "<Figure size 432x288 with 2 Axes>"
      ]
     },
     "metadata": {
      "needs_background": "light"
     },
     "output_type": "display_data"
    }
   ],
   "source": [
    "y_pred = clf.predict(test_clf_data[:, :-1])\n",
    "y_true = test_clf_data[:, -1]\n",
    "\n",
    "#        [   ] \n",
    "#  true  [   ]\n",
    "#        pred\n",
    "conf_mat = confusion_matrix(y_pred=y_pred, y_true=y_true)\n",
    "acc = np.sum(np.diag(conf_mat))/np.sum(conf_mat)\n",
    "print(\"Accuracy =\", acc)\n",
    "plot_confusion_matrix(y_pred=y_pred, y_true=y_true, classes=[0, 1])\n",
    "plt.show()"
   ]
  },
  {
   "cell_type": "code",
   "execution_count": 21,
   "metadata": {},
   "outputs": [
    {
     "data": {
      "text/plain": [
       "0.0"
      ]
     },
     "execution_count": 21,
     "metadata": {},
     "output_type": "execute_result"
    }
   ],
   "source": [
    "# the bad thing is that is always predict 1 because there are much more pixel that \n",
    "np.min(clf.predict(extractFeatures(img=raw_data[-5], flatten=True)))"
   ]
  },
  {
   "cell_type": "markdown",
   "metadata": {},
   "source": [
    "We need to analyze how good it can predict the class. The idea is to visualize this with a image."
   ]
  },
  {
   "cell_type": "code",
   "execution_count": 22,
   "metadata": {},
   "outputs": [],
   "source": [
    "def visuImgClf(img, trained_clf):\n",
    "    \"\"\"\n",
    "        Arguments:\n",
    "            img (array) : image\n",
    "            trained_clf (sklearn classifier) : classifier\n",
    "            \n",
    "        Return:\n",
    "            predictions (array) : classified image\n",
    "    \"\"\"\n",
    "    features_img = extractFeatures(img=img, flatten=True)\n",
    "    \n",
    "    predictions = trained_clf.predict(features_img)\n",
    "    \n",
    "    return predictions"
   ]
  },
  {
   "cell_type": "code",
   "execution_count": 28,
   "metadata": {},
   "outputs": [],
   "source": [
    "def displayPredAndTrue(img, trained_clf, class_pixels_img):\n",
    "    \"\"\"\n",
    "        Arguments:\n",
    "            img (array) : image\n",
    "            trained_clf (sklearn classifier) : classifier\n",
    "            class_pixels_img (array) : ground truth classification\n",
    "            \n",
    "        Dsiplay:\n",
    "            3 images :\n",
    "                -image\n",
    "                -image prediction\n",
    "                -ground truth\n",
    "    \"\"\"\n",
    "    # get predictions class for all pixel in the image\n",
    "    predictions = visuImgClf(img=img, trained_clf=trained_clf)\n",
    "    nb_zeros = len(predictions[predictions == 0])\n",
    "    print(\"Number of predicted zeros =\", nb_zeros)\n",
    "    print(\"Number of predicted ones =\", len(predictions) - nb_zeros)\n",
    "\n",
    "    # reshape into an image and 0 : 1 => 0 : 255\n",
    "    n = len(class_pixels_img)\n",
    "    predictions = 255 * np.reshape(predictions, (n, n))\n",
    "    class_pixels_img *= 255\n",
    "\n",
    "    # disp images\n",
    "    plt.imshow(predictions, cmap=\"gray\")\n",
    "    plt.title(\"Prediction\")\n",
    "    plt.show()\n",
    "\n",
    "    plt.imshow(class_pixels_img, cmap=\"gray\")\n",
    "    plt.title(\"Ground Truth\")\n",
    "    plt.show()"
   ]
  },
  {
   "cell_type": "code",
   "execution_count": 68,
   "metadata": {},
   "outputs": [
    {
     "name": "stdout",
     "output_type": "stream",
     "text": [
      "Image negative index = -6\n",
      "Number of predicted zeros = 48654\n",
      "Number of predicted ones = 213490\n"
     ]
    },
    {
     "data": {
      "image/png": "[encoded data removed]",
      "text/plain": [
       "<Figure size 432x288 with 1 Axes>"
      ]
     },
     "metadata": {
      "needs_background": "light"
     },
     "output_type": "display_data"
    },
    {
     "data": {
      "image/png": "[encoded data removed]",
      "text/plain": [
       "<Figure size 432x288 with 1 Axes>"
      ]
     },
     "metadata": {
      "needs_background": "light"
     },
     "output_type": "display_data"
    }
   ],
   "source": [
    "random_visu_idx = -np.random.choice([1, 2, 3, 4, 5, 6, 7, 8, 9, 10])\n",
    "print(\"Image negative index =\", random_visu_idx)\n",
    "displayPredAndTrue(img=raw_data[random_visu_idx], \n",
    "                   trained_clf=clf, \n",
    "                   class_pixels_img=seg_data[random_visu_idx])"
   ]
  },
  {
   "cell_type": "markdown",
   "metadata": {},
   "source": [
    "## Best model selection - Cross-Validation & Grid Search"
   ]
  },
  {
   "cell_type": "markdown",
   "metadata": {},
   "source": [
    "We are going to use cross-validation in order to evaluate different models and for each model the best hyperparameters possible."
   ]
  },
  {
   "cell_type": "code",
   "execution_count": null,
   "metadata": {},
   "outputs": [],
   "source": [
    "def gridSearchCV(clf_dataset):\n",
    "    \"\"\"\n",
    "        \n",
    "        Arguments:\n",
    "            clf_dataset ()\n",
    "    \"\"\""
   ]
  }
 ],
 "metadata": {
  "kernelspec": {
   "display_name": "Python 3",
   "language": "python",
   "name": "python3"
  },
  "language_info": {
   "codemirror_mode": {
    "name": "ipython",
    "version": 3
   },
   "file_extension": ".py",
   "mimetype": "text/x-python",
   "name": "python",
   "nbconvert_exporter": "python",
   "pygments_lexer": "ipython3",
   "version": "3.7.1"
  }
 },
 "nbformat": 4,
 "nbformat_minor": 2
}
